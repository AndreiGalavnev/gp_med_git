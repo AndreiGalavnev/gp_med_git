{
 "cells": [
  {
   "cell_type": "code",
   "execution_count": 2,
   "id": "fd8f3e0e",
   "metadata": {},
   "outputs": [
    {
     "ename": "NameError",
     "evalue": "name 'WebDriver' is not defined",
     "output_type": "error",
     "traceback": [
      "\u001b[0;31m---------------------------------------------------------------------------\u001b[0m",
      "\u001b[0;31mNameError\u001b[0m                                 Traceback (most recent call last)",
      "Cell \u001b[0;32mIn[2], line 1\u001b[0m\n\u001b[0;32m----> 1\u001b[0m \u001b[38;5;28;01mclass\u001b[39;00m \u001b[38;5;21;01mDriverSynlab\u001b[39;00m(\u001b[43mWebDriver\u001b[49m):\n\u001b[1;32m      3\u001b[0m     URL \u001b[38;5;241m=\u001b[39m \u001b[38;5;124m\"\u001b[39m\u001b[38;5;124mhttps://www.synlab.by\u001b[39m\u001b[38;5;124m\"\u001b[39m\n\u001b[1;32m      4\u001b[0m     NAME \u001b[38;5;241m=\u001b[39m \u001b[38;5;124m\"\u001b[39m\u001b[38;5;124mSynlab.by\u001b[39m\u001b[38;5;124m\"\u001b[39m\n",
      "\u001b[0;31mNameError\u001b[0m: name 'WebDriver' is not defined"
     ]
    }
   ],
   "source": [
    "import datetime as dt\n",
    "from typing import List, Optional\n",
    "import numpy as np\n",
    "import pandas as pd\n",
    "import requests\n",
    "from bs4 import BeautifulSoup\n",
    "import time\n",
    "from abc import ABC, abstractmethod\n",
    "\n",
    "\n",
    "class DriverSynlab(WebDriver):\n",
    "    \n",
    "    URL = \"https://www.synlab.by\"\n",
    "    NAME = \"Synlab.by\"\n",
    "\n",
    "    def __init__(self):       \n",
    "        super().__init__()\n",
    "#         self.urls : List[str] = []\n",
    "        self._chapters : List[str] = []\n",
    "\n",
    "    def scan(self):\n",
    "        url = \"https://www.synlab.by/ru/%D0%BF%D1%80%D0%B5%D0%B9%D1%81%D0%BA%D1%83%D1%80%D0%B0%D0%BD%D1%82\"\n",
    "        soup = self._scan_page(url=url)\n",
    "        tag = soup.find(name=\"ul\", class_ = \"nav menu checkup-menu mod-list\")\n",
    "    \n",
    "        for a in tag.find_all(\"a\"):\n",
    "\n",
    "            url_chapter = DriverSynlab.URL + a.get(\"href\")\n",
    "            chapter = a.text\n",
    "            self.urls = np.append(self.urls, url_chapter)\n",
    "            self._chapters = np.append(self._chapters , chapter)\n",
    "#             print(f\"{url_capter = }, {name_capter = }\")\n",
    "\n",
    "        return(self)\n",
    "\n",
    "\n",
    "    def get_analysis(self) :\n",
    "        i = 0\n",
    "#         analysis_list = []\n",
    "        analysis_dict = {}\n",
    "\n",
    "        for url_chapter, chapter in zip(self.urls, self._chapters):\n",
    "            soup = self._scan_page(url_chapter)\n",
    "            for tag in soup.find_all(\"table\"):\n",
    "\n",
    "                if tag: \n",
    "                    \n",
    "                    for tr in tag.find_all(\"tr\"):\n",
    "\n",
    "                        t_columns = tr.find_all(\"td\")\n",
    "                        analysis_name = t_columns[0].get_text(strip=True)\n",
    "                        analysis_cost = t_columns[1].text\n",
    "                        if len(t_columns) == 3:\n",
    "                            analysis_comment = t_columns[2].get_text(strip=True)\n",
    "\n",
    "                        analysis = Analysis(DriverSynlab.NAME, chapter, analysis_name, analysis_cost, analysis_comment)\n",
    "                        analysis_dict[i] = analysis.to_dict()\n",
    "#                         analysis_list.append(analysis)\n",
    "                \n",
    "                        i+=1\n",
    "\n",
    "            time.sleep(2) # ставим задержку 2 секунды после парсинга каждого раздела\n",
    "        return analysis_dict"
   ]
  },
  {
   "cell_type": "code",
   "execution_count": null,
   "id": "3213f0e3",
   "metadata": {},
   "outputs": [],
   "source": []
  }
 ],
 "metadata": {
  "kernelspec": {
   "display_name": "Python 3 (ipykernel)",
   "language": "python",
   "name": "python3"
  },
  "language_info": {
   "codemirror_mode": {
    "name": "ipython",
    "version": 3
   },
   "file_extension": ".py",
   "mimetype": "text/x-python",
   "name": "python",
   "nbconvert_exporter": "python",
   "pygments_lexer": "ipython3",
   "version": "3.10.12"
  },
  "varInspector": {
   "cols": {
    "lenName": 16,
    "lenType": 16,
    "lenVar": 40
   },
   "kernels_config": {
    "python": {
     "delete_cmd_postfix": "",
     "delete_cmd_prefix": "del ",
     "library": "var_list.py",
     "varRefreshCmd": "print(var_dic_list())"
    },
    "r": {
     "delete_cmd_postfix": ") ",
     "delete_cmd_prefix": "rm(",
     "library": "var_list.r",
     "varRefreshCmd": "cat(var_dic_list()) "
    }
   },
   "types_to_exclude": [
    "module",
    "function",
    "builtin_function_or_method",
    "instance",
    "_Feature"
   ],
   "window_display": false
  }
 },
 "nbformat": 4,
 "nbformat_minor": 5
}
