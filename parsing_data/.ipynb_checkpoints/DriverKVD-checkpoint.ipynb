{
 "cells": [
  {
   "cell_type": "code",
   "execution_count": null,
   "id": "e3e313f0",
   "metadata": {},
   "outputs": [],
   "source": [
    "import datetime as dt\n",
    "from typing import List, Optional\n",
    "import numpy as np\n",
    "import pandas as pd\n",
    "import requests\n",
    "from bs4 import BeautifulSoup\n",
    "import time\n",
    "from abc import ABC, abstractmethod\n",
    "\n",
    "\n",
    "class DriverKVD(WebDriver):\n",
    "    \n",
    "    URL = \"https://kvd.by/%D0%BF%D0%BB%D0%B0%D1%82%D0%BD%D1%8B%D0%B5-%D1%83%D1%81%D0%BB%D1%83%D0%B3%D0%B8/%D0%BF%D1%80%D0%B5%D0%B9%D1%81%D0%BA%D1%83%D1%80%D0%B0%D0%BD%D1%82%D1%8B-%D0%B4%D0%BB%D1%8F-%D0%B3%D1%80%D0%B0%D0%B6%D0%B4%D0%B0%D0%BD-%D1%80%D0%B5%D1%81%D0%BF%D1%83%D0%B1%D0%BB%D0%B8%D0%BA%D0%B8-%D0%B1%D0%B5%D0%BB%D0%B0%D1%80%D1%83%D1%81%D1%8C\"\n",
    "    NAME = \"kvd.by\"\n",
    "\n",
    "    def __init__(self):\n",
    "        # Описываем все имеющиеся таблицы:\n",
    "        # key - количество столбцов в таблице\n",
    "        # value: 0 - номер столбца, содержащего название анализа\n",
    "        # value: 1 - номер столбца, содержащего цену\n",
    "        self.dict_tables = {\n",
    "                10 : (2, 9),\n",
    "                2 : (0, 1),\n",
    "                7 : (1, 6),\n",
    "                8 : (1, 7)\n",
    "                }\n",
    "\n",
    "    def get_analysis(self) :\n",
    "        \n",
    "        analysis_dict = {}\n",
    "        soup = self._scan_page(self.URL)\n",
    "        i = 0\n",
    "        for tag in soup.find_all(name=\"div\", class_ = \"entry spoiler\"):\n",
    "\n",
    "#             date_update = tag.find(\"table\").find_previous(\"p\").strong.text\n",
    "#             date_update = dt.datetime.strptime(date_update, \"%d.%m.%Y\")\n",
    "\n",
    "            chapter = tag.find(\"h3\").get_text(strip=True)\n",
    "\n",
    "        #     n_td - количество столбцов в таблице, считаю по последней строке\n",
    "            n_td = len(tag.find(class_=\"cool-table\").find_all(\"tr\")[-1].find_all(\"td\"))\n",
    "            for row in tag.find(class_=\"cool-table\").find_all(\"tr\"):\n",
    "                if n_td == len(row.find_all(\"td\")):\n",
    "                    t_columns = row.find_all(\"td\")\n",
    "        #             n_td = len(t_columns)\n",
    "                    analysis_name = t_columns[self.dict_tables[n_td][0]].get_text(strip=True)\n",
    "                    analysis_cost = t_columns[self.dict_tables[n_td][1]].get_text(strip=True)\n",
    "                    analysis = Analysis(self.NAME, chapter, analysis_name, analysis_cost, '')\n",
    "                    analysis_dict[i] = analysis.to_dict()\n",
    "                    i += 1\n",
    "                    \n",
    "        return analysis_dict"
   ]
  }
 ],
 "metadata": {
  "kernelspec": {
   "display_name": "Python 3 (ipykernel)",
   "language": "python",
   "name": "python3"
  },
  "language_info": {
   "codemirror_mode": {
    "name": "ipython",
    "version": 3
   },
   "file_extension": ".py",
   "mimetype": "text/x-python",
   "name": "python",
   "nbconvert_exporter": "python",
   "pygments_lexer": "ipython3",
   "version": "3.10.12"
  },
  "varInspector": {
   "cols": {
    "lenName": 16,
    "lenType": 16,
    "lenVar": 40
   },
   "kernels_config": {
    "python": {
     "delete_cmd_postfix": "",
     "delete_cmd_prefix": "del ",
     "library": "var_list.py",
     "varRefreshCmd": "print(var_dic_list())"
    },
    "r": {
     "delete_cmd_postfix": ") ",
     "delete_cmd_prefix": "rm(",
     "library": "var_list.r",
     "varRefreshCmd": "cat(var_dic_list()) "
    }
   },
   "types_to_exclude": [
    "module",
    "function",
    "builtin_function_or_method",
    "instance",
    "_Feature"
   ],
   "window_display": false
  }
 },
 "nbformat": 4,
 "nbformat_minor": 5
}
