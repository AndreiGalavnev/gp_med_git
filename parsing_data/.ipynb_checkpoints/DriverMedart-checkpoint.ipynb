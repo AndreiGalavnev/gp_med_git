{
 "cells": [
  {
   "cell_type": "code",
   "execution_count": null,
   "id": "1e48fd77",
   "metadata": {},
   "outputs": [],
   "source": [
    "import datetime as dt\n",
    "from typing import List, Optional\n",
    "import numpy as np\n",
    "import pandas as pd\n",
    "import requests\n",
    "from bs4 import BeautifulSoup\n",
    "import time\n",
    "from abc import ABC, abstractmethod\n",
    "\n",
    "\n",
    "class DriverMedart(WebDriver):\n",
    "    \n",
    "    URL = \"https://medart.by/price/\"\n",
    "    NAME = \"medart.by/\"\n",
    "\n",
    "    def __init__(self):\n",
    "       ...\n",
    "    \n",
    "    def get_analisys(self) :\n",
    "        \n",
    "        analisys_dict={}\n",
    "        i=0\n",
    "        soup = self._scan_page(self.URL)\n",
    "\n",
    "        ID = [\"sect_6\", \"sect_5\", \"sect_7\", \"sect_8\", \"sect_9\", \"sect_10\", \"sect_11\", \"sect_12\", \"sect_13\", \"sect_14\", \"sect_15\", \"sect_16\", \"sect_17\", \"sect_19\", \"sect_146\", \"sect_151\"]\n",
    "        \n",
    "        for k in ID:\n",
    "            tag = soup.find('div', class_='section_filter', id=f\"{k}\")\n",
    "            # print(k)\n",
    "            # print(type(tag),len(tag),tag[0])\n",
    "\n",
    "            R=tag.find(class_= 'pricemain-title_left sticky').text.strip()\n",
    "            V= tag.find(class_= 'title').text.strip()\n",
    "            S = tag.find(class_='categoriesmain_price-table').find('table')\n",
    "#             print(R,V)\n",
    "\n",
    "            # Находим все строки таблицы, кроме первой (заголовочной)\n",
    "            rows = S.find_all(\"tr\")#[1:]\n",
    "            for row in rows:\n",
    "#                 Проверяем, есть ли у элемента row атрибут colspan\n",
    "                if row.find(\"td\").has_attr('colspan'):\n",
    "                    V = row.find(\"td\", class_=\"title\").text\n",
    "                    continue\n",
    "    \n",
    "#                 Иначе продолжаем как обычно\n",
    "                \n",
    "                name_elem = row.find(\"td\", class_=\"name\")\n",
    "                if name_elem is None:\n",
    "                    print(\"Элемент name не найден!\")\n",
    "                    continue\n",
    "                name = name_elem.get_text(strip=True)\n",
    "                print(R,V,name)\n",
    "\n",
    "                link = row.find(\"td\", class_=\"name\").find('a').get('href')\n",
    "                                \n",
    "                price_elem = row.find(\"td\", class_=\"price\")\n",
    "                if price_elem is None:\n",
    "                    print(\"Элемент price не найден!\")\n",
    "                    continue\n",
    "                price = price_elem.get_text(strip=True)\n",
    "                                \n",
    "                chapter = (R,V)\n",
    "                analisys_name = name\n",
    "                analisys_cost = price\n",
    "                analisys_comment = \"https://medart.by\"+link\n",
    "                analisys = Analisys(self.NAME, chapter, analisys_name, analisys_cost, analisys_comment)\n",
    "                analisys_dict[i] = (analisys.to_dict())\n",
    "                i+=1 \n",
    "                print('I=',i)\n",
    "                print(analisys_dict)\n",
    "\n",
    "        return analisys_dict\n"
   ]
  }
 ],
 "metadata": {
  "kernelspec": {
   "display_name": "Python 3 (ipykernel)",
   "language": "python",
   "name": "python3"
  },
  "language_info": {
   "codemirror_mode": {
    "name": "ipython",
    "version": 3
   },
   "file_extension": ".py",
   "mimetype": "text/x-python",
   "name": "python",
   "nbconvert_exporter": "python",
   "pygments_lexer": "ipython3",
   "version": "3.10.12"
  },
  "varInspector": {
   "cols": {
    "lenName": 16,
    "lenType": 16,
    "lenVar": 40
   },
   "kernels_config": {
    "python": {
     "delete_cmd_postfix": "",
     "delete_cmd_prefix": "del ",
     "library": "var_list.py",
     "varRefreshCmd": "print(var_dic_list())"
    },
    "r": {
     "delete_cmd_postfix": ") ",
     "delete_cmd_prefix": "rm(",
     "library": "var_list.r",
     "varRefreshCmd": "cat(var_dic_list()) "
    }
   },
   "types_to_exclude": [
    "module",
    "function",
    "builtin_function_or_method",
    "instance",
    "_Feature"
   ],
   "window_display": false
  }
 },
 "nbformat": 4,
 "nbformat_minor": 5
}
