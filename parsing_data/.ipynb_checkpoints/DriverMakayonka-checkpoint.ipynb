{
 "cells": [
  {
   "cell_type": "code",
   "execution_count": 2,
   "id": "3d2d8010",
   "metadata": {},
   "outputs": [],
   "source": []
  },
  {
   "cell_type": "code",
   "execution_count": 1,
   "id": "6cf31eed",
   "metadata": {},
   "outputs": [
    {
     "ename": "NameError",
     "evalue": "name 'WebDriver' is not defined",
     "output_type": "error",
     "traceback": [
      "\u001b[0;31m---------------------------------------------------------------------------\u001b[0m",
      "\u001b[0;31mNameError\u001b[0m                                 Traceback (most recent call last)",
      "Cell \u001b[0;32mIn[1], line 1\u001b[0m\n\u001b[0;32m----> 1\u001b[0m \u001b[38;5;28;01mclass\u001b[39;00m \u001b[38;5;21;01mDriverMakaenka\u001b[39;00m(\u001b[43mWebDriver\u001b[49m):\n\u001b[1;32m      3\u001b[0m     URL \u001b[38;5;241m=\u001b[39m \u001b[38;5;124m\"\u001b[39m\u001b[38;5;124mhttps://makaenka17med.by/prices/\u001b[39m\u001b[38;5;124m\"\u001b[39m\n\u001b[1;32m      4\u001b[0m     NAME \u001b[38;5;241m=\u001b[39m \u001b[38;5;124m\"\u001b[39m\u001b[38;5;124mmakaenka17med.by\u001b[39m\u001b[38;5;124m\"\u001b[39m\n",
      "\u001b[0;31mNameError\u001b[0m: name 'WebDriver' is not defined"
     ]
    }
   ],
   "source": [
    "import datetime as dt\n",
    "from typing import List, Optional\n",
    "import numpy as np\n",
    "import pandas as pd\n",
    "import requests\n",
    "from bs4 import BeautifulSoup\n",
    "import time\n",
    "from abc import ABC, abstractmethod\n",
    "\n",
    "\n",
    "class DriverMakaenka(WebDriver):\n",
    "    \n",
    "    URL = \"https://makaenka17med.by/prices/\"\n",
    "    NAME = \"makaenka17med.by\"\n",
    "\n",
    "    def __init__(self):\n",
    "        ...\n",
    "        \n",
    "    def get_analysis(self) :\n",
    "        analysis_dict={}\n",
    "        i=0\n",
    "        soup = self._scan_page(self.URL)\n",
    "        for tag in soup.find_all(name=\"div\", class_ = \"dropdown-item\"):\n",
    "            analysis_name_add = \"\"\n",
    "            chapter = tag.find(name=\"button\").text\n",
    "\n",
    "            for row in tag.find(name=\"tbody\").find_all(\"tr\"):\n",
    "                if row.find(name=\"div\", class_=\"table-list__title\"):\n",
    "                    analysis_name_add = row.find(name=\"div\", class_=\"table-list__title\").get_text(strip=True)\n",
    "                else: \n",
    "                    columns = row.find_all(\"td\")\n",
    "\n",
    "                    analysis_name = analysis_name_add + \" \" + columns[0].get_text(strip=True)\n",
    "                    analysis_cost = columns[1].get_text(strip=True)\n",
    "                    analysis = Analysis(self.NAME, chapter, analysis_name, analysis_cost, \"\")\n",
    "                    analysis_dict[i] = analysis.to_dict()\n",
    "                    i += 1\n",
    "\n",
    "        return analysis_dict"
   ]
  },
  {
   "cell_type": "code",
   "execution_count": null,
   "id": "92eeb8c9",
   "metadata": {},
   "outputs": [],
   "source": []
  }
 ],
 "metadata": {
  "kernelspec": {
   "display_name": "Python 3 (ipykernel)",
   "language": "python",
   "name": "python3"
  },
  "language_info": {
   "codemirror_mode": {
    "name": "ipython",
    "version": 3
   },
   "file_extension": ".py",
   "mimetype": "text/x-python",
   "name": "python",
   "nbconvert_exporter": "python",
   "pygments_lexer": "ipython3",
   "version": "3.10.12"
  },
  "varInspector": {
   "cols": {
    "lenName": 16,
    "lenType": 16,
    "lenVar": 40
   },
   "kernels_config": {
    "python": {
     "delete_cmd_postfix": "",
     "delete_cmd_prefix": "del ",
     "library": "var_list.py",
     "varRefreshCmd": "print(var_dic_list())"
    },
    "r": {
     "delete_cmd_postfix": ") ",
     "delete_cmd_prefix": "rm(",
     "library": "var_list.r",
     "varRefreshCmd": "cat(var_dic_list()) "
    }
   },
   "types_to_exclude": [
    "module",
    "function",
    "builtin_function_or_method",
    "instance",
    "_Feature"
   ],
   "window_display": false
  }
 },
 "nbformat": 4,
 "nbformat_minor": 5
}
